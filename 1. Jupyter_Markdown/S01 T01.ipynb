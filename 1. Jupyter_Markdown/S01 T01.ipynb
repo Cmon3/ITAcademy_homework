{
 "cells": [
  {
   "cell_type": "markdown",
   "id": "c1018ec1",
   "metadata": {},
   "source": [
    "![Logo](images/ITlogo.png)<br>\n",
    "[IT Academy site](https://www.barcelonactiva.cat/es/itacademy)<br>\n",
    "\n",
    "# S01 T01: Jupyter Notebook i Markdown\n",
    "\n",
    "### *Using Jupyter Notebook run some simple calculations, while becoming familiar with the Markdown language.*\n",
    "### *Try to create titles, lists, change font style or add an image.*\n"
   ]
  },
  {
   "cell_type": "markdown",
   "id": "613789c7",
   "metadata": {},
   "source": [
    "* *Sum*"
   ]
  },
  {
   "cell_type": "code",
   "execution_count": 1,
   "id": "14408a42",
   "metadata": {},
   "outputs": [
    {
     "name": "stdout",
     "output_type": "stream",
     "text": [
      "9\n"
     ]
    }
   ],
   "source": [
    "x = 3 \n",
    "y = 6\n",
    "\n",
    "z = x + y\n",
    "print(z)\n"
   ]
  },
  {
   "cell_type": "markdown",
   "id": "db2a6e92",
   "metadata": {},
   "source": [
    "* *Subtraction*"
   ]
  },
  {
   "cell_type": "markdown",
   "id": "f64dbafe",
   "metadata": {},
   "source": [
    "```python\n",
    "z = x - y\n",
    "print(z)\n",
    "```"
   ]
  },
  {
   "cell_type": "markdown",
   "id": "8886a8d7",
   "metadata": {},
   "source": [
    "* *Multiplication*"
   ]
  },
  {
   "cell_type": "markdown",
   "id": "5cf386c0",
   "metadata": {},
   "source": [
    "```python\n",
    "z = x * y\n",
    "print(z)\n",
    "```"
   ]
  },
  {
   "cell_type": "markdown",
   "id": "dbb318ee",
   "metadata": {},
   "source": [
    "* *Division*"
   ]
  },
  {
   "cell_type": "markdown",
   "id": "5dbf11bd",
   "metadata": {},
   "source": [
    "```python\n",
    "z = x / y\n",
    "print(z)\n",
    "```"
   ]
  },
  {
   "cell_type": "markdown",
   "id": "11e8e339",
   "metadata": {},
   "source": [
    "* *Casting*"
   ]
  },
  {
   "cell_type": "markdown",
   "id": "d27fc0d7",
   "metadata": {},
   "source": [
    "```python\n",
    "w = str(z)\n",
    "type(w)\n",
    "```"
   ]
  },
  {
   "cell_type": "markdown",
   "id": "7d427ee0",
   "metadata": {},
   "source": [
    "* *Techniques with Strings*"
   ]
  },
  {
   "cell_type": "markdown",
   "id": "1ccb5791",
   "metadata": {},
   "source": [
    "```python \n",
    "w.upper()\n",
    "w.lower()\n",
    "```"
   ]
  },
  {
   "cell_type": "markdown",
   "id": "c03913da",
   "metadata": {},
   "source": [
    "* *Booleans*"
   ]
  },
  {
   "cell_type": "markdown",
   "id": "44fa295c",
   "metadata": {},
   "source": [
    "```python\n",
    "w.islower()\n",
    "w.isupper()\n",
    "```"
   ]
  },
  {
   "cell_type": "markdown",
   "id": "947909ad",
   "metadata": {},
   "source": [
    "### Nbaextensions installed<br>\n",
    "\n",
    "![Logo](images/nbaextensions.png)"
   ]
  }
 ],
 "metadata": {
  "kernelspec": {
   "display_name": "Python 3 (ipykernel)",
   "language": "python",
   "name": "python3"
  },
  "language_info": {
   "codemirror_mode": {
    "name": "ipython",
    "version": 3
   },
   "file_extension": ".py",
   "mimetype": "text/x-python",
   "name": "python",
   "nbconvert_exporter": "python",
   "pygments_lexer": "ipython3",
   "version": "3.9.12"
  }
 },
 "nbformat": 4,
 "nbformat_minor": 5
}
