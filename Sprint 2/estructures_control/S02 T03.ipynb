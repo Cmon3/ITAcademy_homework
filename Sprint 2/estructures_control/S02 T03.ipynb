{
 "cells": [
  {
   "cell_type": "markdown",
   "id": "3315807b",
   "metadata": {},
   "source": [
    "# S02 T03: Control Structure"
   ]
  },
  {
   "cell_type": "markdown",
   "id": "cd305a36",
   "metadata": {},
   "source": [
    "### Exercise 1"
   ]
  },
  {
   "cell_type": "markdown",
   "id": "7b80c86f",
   "metadata": {},
   "source": [
    "*The exercise consists of creating a program that classifies a numerical variable according to the Suspended/Approved/Notable/Excellent scale.*"
   ]
  },
  {
   "cell_type": "code",
   "execution_count": 4,
   "id": "53feaa85",
   "metadata": {},
   "outputs": [],
   "source": [
    "def grades_classification(grade):\n",
    "    if grade < 5:\n",
    "        print(\"The student has failed\")\n",
    "    elif grade < 7:\n",
    "        print(\"The student has passed\")\n",
    "    elif grade <= 8:\n",
    "        print(\"The student has got a notable\")\n",
    "    elif grade <= 10:\n",
    "        print(\"The student has got an excellent\")\n",
    "    else:\n",
    "        print(\"The grade is out of range\")"
   ]
  },
  {
   "cell_type": "code",
   "execution_count": 12,
   "id": "a4c4fa36",
   "metadata": {},
   "outputs": [
    {
     "name": "stdout",
     "output_type": "stream",
     "text": [
      "The student has passed\n"
     ]
    }
   ],
   "source": [
    "grades_classification(5)"
   ]
  },
  {
   "cell_type": "markdown",
   "id": "d20e7c92",
   "metadata": {},
   "source": [
    "### Exercise 2"
   ]
  },
  {
   "cell_type": "markdown",
   "id": "077c2f8f",
   "metadata": {},
   "source": [
    "*Create a program that asks for two numbers, it should say which one is the biggest or if they are equal*"
   ]
  },
  {
   "cell_type": "code",
   "execution_count": 13,
   "id": "258eab6b",
   "metadata": {},
   "outputs": [],
   "source": [
    "def biggest_num():\n",
    "    num1 = input('Enter the first number: ')\n",
    "    num2 = input('Enter the second number: ')\n",
    "    \n",
    "    if num1 < num2:\n",
    "        print(\"The second number: {}, is bigger than the first number: {}\".format(num2,num1))\n",
    "    elif num1 > num2:\n",
    "        print(\"The first number: {}, is bigger than the second number: {}\".format(num1,num2))\n",
    "    else:\n",
    "        print(\"The numbers {} and {} are equal\".format(num1,num2))"
   ]
  },
  {
   "cell_type": "code",
   "execution_count": 16,
   "id": "fc58dfe1",
   "metadata": {},
   "outputs": [
    {
     "name": "stdout",
     "output_type": "stream",
     "text": [
      "Enter the first number: 2\n",
      "Enter the second number: 2\n",
      "The numbers 2 and 2 are equal\n"
     ]
    }
   ],
   "source": [
    "biggest_num()"
   ]
  },
  {
   "cell_type": "markdown",
   "id": "c44260f9",
   "metadata": {},
   "source": [
    "### Exercise 3"
   ]
  },
  {
   "cell_type": "markdown",
   "id": "b29a82d4",
   "metadata": {},
   "source": [
    "*Create a program that asks for your name, and a number. If the number is 0, it should display an error message. Otherwise, it should display the name repeated as many times as the given number. For example, \"Joan Joan Joan\".*"
   ]
  },
  {
   "cell_type": "code",
   "execution_count": 36,
   "id": "79199da1",
   "metadata": {},
   "outputs": [],
   "source": [
    "def rep_name():\n",
    "    name = input('Enter your name: ')\n",
    "    num = int(input('Enter a number: '))\n",
    "    \n",
    "    print(num*(name+\" \"))"
   ]
  },
  {
   "cell_type": "code",
   "execution_count": 37,
   "id": "9da3635f",
   "metadata": {},
   "outputs": [
    {
     "name": "stdout",
     "output_type": "stream",
     "text": [
      "Enter your name: andres\n",
      "Enter a number: 4\n",
      "andres andres andres andres \n"
     ]
    }
   ],
   "source": [
    "rep_name()"
   ]
  },
  {
   "cell_type": "markdown",
   "id": "ce5f329b",
   "metadata": {},
   "source": [
    "### Exercise 4"
   ]
  },
  {
   "cell_type": "markdown",
   "id": "93ab6f4c",
   "metadata": {},
   "source": [
    "*Create a program that takes a list, and tells you whether it's symmetrical or not. If it is, it should tell you how many elements it has.*"
   ]
  },
  {
   "cell_type": "code",
   "execution_count": 50,
   "id": "1c5f5b43",
   "metadata": {},
   "outputs": [],
   "source": [
    "def palindromic_check(list):\n",
    "    if list == list[::-1]:\n",
    "        print(\"The list is a palindrome and has\",len(list),\"elements.\")\n",
    "    else:\n",
    "        print(\"The list is not a palindrome\")"
   ]
  },
  {
   "cell_type": "code",
   "execution_count": 54,
   "id": "204551a2",
   "metadata": {},
   "outputs": [
    {
     "name": "stdout",
     "output_type": "stream",
     "text": [
      "The list is a palindrome and has 3 elements.\n"
     ]
    }
   ],
   "source": [
    "my_list = [\"php\", \"w3r\", \"Python\", \"abcd\", \"Java\", \"aaa\"]\n",
    "palindromic_list = ['dolphin', 'orca', 'dolphin']\n",
    "\n",
    "palindromic_check(palindromic_list)"
   ]
  },
  {
   "cell_type": "markdown",
   "id": "4f32630a",
   "metadata": {},
   "source": [
    "### Exercise 5"
   ]
  },
  {
   "cell_type": "markdown",
   "id": "41729bd3",
   "metadata": {},
   "source": [
    "*Create a program that takes a list, and tells you how many numbers match its own index. For example [3,4,2,0,2,3,6] 2 and 6 match.*"
   ]
  },
  {
   "cell_type": "code",
   "execution_count": 78,
   "id": "1f9b78ba",
   "metadata": {},
   "outputs": [],
   "source": [
    "def num_equal_index(list):\n",
    "    num_matched = 0\n",
    "    num_checked = []\n",
    "    for i in list:\n",
    "        if i == list.index(i) and i not in num_checked:\n",
    "            num_matched += 1\n",
    "            num_checked.append(i)\n",
    "    if num_matched > 0:\n",
    "        print(\"The number of numbers that match its index is:\",num_matched)\n",
    "    else:\n",
    "        print(\"No number match its index\")"
   ]
  },
  {
   "cell_type": "code",
   "execution_count": 79,
   "id": "d4c09035",
   "metadata": {},
   "outputs": [
    {
     "name": "stdout",
     "output_type": "stream",
     "text": [
      "The number of numbers that match its index is: 2\n"
     ]
    }
   ],
   "source": [
    "num_list = [3,4,2,0,2,3,6]\n",
    "num_equal_index(num_list)"
   ]
  }
 ],
 "metadata": {
  "kernelspec": {
   "display_name": "Python 3 (ipykernel)",
   "language": "python",
   "name": "python3"
  },
  "language_info": {
   "codemirror_mode": {
    "name": "ipython",
    "version": 3
   },
   "file_extension": ".py",
   "mimetype": "text/x-python",
   "name": "python",
   "nbconvert_exporter": "python",
   "pygments_lexer": "ipython3",
   "version": "3.9.12"
  }
 },
 "nbformat": 4,
 "nbformat_minor": 5
}
