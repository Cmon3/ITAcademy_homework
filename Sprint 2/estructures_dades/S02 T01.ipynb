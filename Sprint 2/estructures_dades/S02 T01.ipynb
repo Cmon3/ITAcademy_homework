{
 "cells": [
  {
   "cell_type": "markdown",
   "id": "42d43488",
   "metadata": {},
   "source": [
    "# S02 T01: Data Structure\n",
    "### Exercise 1"
   ]
  },
  {
   "cell_type": "code",
   "execution_count": 98,
   "id": "21f82f7a",
   "metadata": {},
   "outputs": [],
   "source": [
    "yearTrimesters = [[\"January\", \"February\", \"March\"], [\"Abril\", \"May\", \"June\"], [\"July\", \"August\", \"September\"], [\"October\", \"November\", \"December\"]]"
   ]
  },
  {
   "cell_type": "markdown",
   "id": "059b50a5",
   "metadata": {},
   "source": [
    "### Exercise 2"
   ]
  },
  {
   "cell_type": "code",
   "execution_count": 99,
   "id": "4baf48b9",
   "metadata": {},
   "outputs": [
    {
     "data": {
      "text/plain": [
       "'February'"
      ]
     },
     "execution_count": 99,
     "metadata": {},
     "output_type": "execute_result"
    }
   ],
   "source": [
    "yearTrimesters[0][1]"
   ]
  },
  {
   "cell_type": "code",
   "execution_count": 100,
   "id": "477d68f2",
   "metadata": {},
   "outputs": [
    {
     "data": {
      "text/plain": [
       "['January', 'February', 'March']"
      ]
     },
     "execution_count": 100,
     "metadata": {},
     "output_type": "execute_result"
    }
   ],
   "source": [
    "yearTrimesters[0]"
   ]
  },
  {
   "cell_type": "code",
   "execution_count": 101,
   "id": "0e4dfb34",
   "metadata": {},
   "outputs": [
    {
     "name": "stdout",
     "output_type": "stream",
     "text": [
      "September\n",
      "October\n"
     ]
    }
   ],
   "source": [
    "print(yearTrimesters[2][2])\n",
    "print(yearTrimesters[3][0])"
   ]
  },
  {
   "cell_type": "markdown",
   "id": "668332c4",
   "metadata": {},
   "source": [
    "### Exercise 3"
   ]
  },
  {
   "cell_type": "code",
   "execution_count": 102,
   "id": "1f158e2f",
   "metadata": {},
   "outputs": [],
   "source": [
    "numbers = [8, 7, 1, 4, 11, 3, 4]"
   ]
  },
  {
   "cell_type": "code",
   "execution_count": 103,
   "id": "a83b41d8",
   "metadata": {},
   "outputs": [
    {
     "name": "stdout",
     "output_type": "stream",
     "text": [
      "The number of numbers in the list is: 7\n"
     ]
    }
   ],
   "source": [
    "print(\"The number of numbers in the list is:\",len(numbers))"
   ]
  },
  {
   "cell_type": "code",
   "execution_count": 104,
   "id": "ab7b6893",
   "metadata": {},
   "outputs": [
    {
     "name": "stdout",
     "output_type": "stream",
     "text": [
      "Number three ocurrences is  1 , and number four  2\n"
     ]
    }
   ],
   "source": [
    "threeCount, fourCount = numbers.count(3), numbers.count(4)\n",
    "print (\"Number three ocurrences is \",  threeCount,  \", and number four \",  fourCount)"
   ]
  },
  {
   "cell_type": "code",
   "execution_count": 105,
   "id": "76214525",
   "metadata": {},
   "outputs": [
    {
     "name": "stdout",
     "output_type": "stream",
     "text": [
      "The biggest number in the numbers list is:  11\n"
     ]
    }
   ],
   "source": [
    "print (\"The biggest number in the numbers list is: \",max(numbers))"
   ]
  },
  {
   "cell_type": "code",
   "execution_count": 106,
   "id": "6cfa6ab1",
   "metadata": {},
   "outputs": [
    {
     "name": "stdout",
     "output_type": "stream",
     "text": [
      "The three smallest numbers in the numbers list are:  1 , 3 , 4\n"
     ]
    }
   ],
   "source": [
    "min1,min2, min3 = sorted(numbers)[:3]\n",
    "print(\"The three smallest numbers in the numbers list are: \", min1,\",\", min2, \",\", min3)"
   ]
  },
  {
   "cell_type": "code",
   "execution_count": 107,
   "id": "a7d71330",
   "metadata": {},
   "outputs": [
    {
     "name": "stdout",
     "output_type": "stream",
     "text": [
      "The numbers list starts from 1 and ends in 11\n"
     ]
    }
   ],
   "source": [
    "print(\"The numbers list starts from\",min(numbers),\"and ends in\",max(numbers))"
   ]
  },
  {
   "cell_type": "markdown",
   "id": "0998d51d",
   "metadata": {},
   "source": [
    "### Exercise 4"
   ]
  },
  {
   "cell_type": "code",
   "execution_count": 108,
   "id": "359487bd",
   "metadata": {},
   "outputs": [],
   "source": [
    "compra = { \"Pomes\" : {\"Qty\": 5, \"€\": 0.42}, \"Peres\" : {\"Qty\": 3, \"€\": 0.66} }"
   ]
  },
  {
   "cell_type": "markdown",
   "id": "258a9ef4",
   "metadata": {},
   "source": [
    "*Adding a new fruit to the dict*:"
   ]
  },
  {
   "cell_type": "code",
   "execution_count": 109,
   "id": "41f9e7fc",
   "metadata": {},
   "outputs": [
    {
     "name": "stdout",
     "output_type": "stream",
     "text": [
      "{'Pomes': {'Qty': 5, '€': 0.42}, 'Peres': {'Qty': 3, '€': 0.66}, 'Sindria': {'Qty': 2, '€': 1.2}}\n"
     ]
    }
   ],
   "source": [
    "compra[\"Sindria\"] = {\"Qty\": 2, \"€\": 1.20}\n",
    "print(compra)"
   ]
  },
  {
   "cell_type": "markdown",
   "id": "425c3849",
   "metadata": {},
   "source": [
    "*Total cost of Peres*:"
   ]
  },
  {
   "cell_type": "code",
   "execution_count": 110,
   "id": "8c1b04cc",
   "metadata": {},
   "outputs": [
    {
     "name": "stdout",
     "output_type": "stream",
     "text": [
      "1.98\n"
     ]
    }
   ],
   "source": [
    "print(compra[\"Peres\"].get(\"Qty\") * compra[\"Peres\"].get(\"€\"))"
   ]
  },
  {
   "cell_type": "markdown",
   "id": "357fbf03",
   "metadata": {},
   "source": [
    "*How many fruits have been bought*:"
   ]
  },
  {
   "cell_type": "code",
   "execution_count": 111,
   "id": "2d3db0a6",
   "metadata": {},
   "outputs": [
    {
     "name": "stdout",
     "output_type": "stream",
     "text": [
      "10\n"
     ]
    }
   ],
   "source": [
    "print(compra[\"Pomes\"].get(\"Qty\")+compra[\"Peres\"].get(\"Qty\")+compra[\"Sindria\"].get(\"Qty\"))"
   ]
  },
  {
   "cell_type": "markdown",
   "id": "1b8bafb6",
   "metadata": {},
   "source": [
    "*Which is the most expensive fruit*:"
   ]
  },
  {
   "cell_type": "code",
   "execution_count": 112,
   "id": "14cd7971",
   "metadata": {},
   "outputs": [
    {
     "name": "stdout",
     "output_type": "stream",
     "text": [
      "The most expensive fruit is Sindria , it costs 1.2\n"
     ]
    }
   ],
   "source": [
    "max_fruit = \"\"\n",
    "max_cost = 0\n",
    "\n",
    "for key in compra:   \n",
    "    if compra[key].get(\"€\") > max_cost:\n",
    "        max_fruit = key\n",
    "        max_cost = compra[key].get(\"€\")\n",
    "        \n",
    "print(\"The most expensive fruit is\",max_fruit,\", it costs\",max_cost)"
   ]
  }
 ],
 "metadata": {
  "kernelspec": {
   "display_name": "Python 3 (ipykernel)",
   "language": "python",
   "name": "python3"
  },
  "language_info": {
   "codemirror_mode": {
    "name": "ipython",
    "version": 3
   },
   "file_extension": ".py",
   "mimetype": "text/x-python",
   "name": "python",
   "nbconvert_exporter": "python",
   "pygments_lexer": "ipython3",
   "version": "3.9.12"
  }
 },
 "nbformat": 4,
 "nbformat_minor": 5
}
