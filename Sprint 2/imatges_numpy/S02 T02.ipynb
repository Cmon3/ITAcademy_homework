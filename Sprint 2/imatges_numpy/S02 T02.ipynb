{
 "cells": [
  {
   "cell_type": "markdown",
   "id": "89245b9f",
   "metadata": {},
   "source": [
    "# S02 T02: Estructure of a Matrix"
   ]
  },
  {
   "cell_type": "markdown",
   "id": "7421656f",
   "metadata": {},
   "source": [
    "### Exercise 1"
   ]
  },
  {
   "cell_type": "markdown",
   "id": "000a5225",
   "metadata": {},
   "source": [
    "*Create a one dimension np.array with at least 8 whole numbers data type int64.*"
   ]
  },
  {
   "cell_type": "code",
   "execution_count": 6,
   "id": "415389d5",
   "metadata": {},
   "outputs": [
    {
     "name": "stdout",
     "output_type": "stream",
     "text": [
      "[ 5  1  3  8  2  9 12 15]\n"
     ]
    }
   ],
   "source": [
    "import numpy as np\n",
    "\n",
    "array_one = np.array([5, 1, 3, 8, 2, 9, 12, 15], dtype=np.int64)\n",
    "print(array_one)"
   ]
  },
  {
   "cell_type": "code",
   "execution_count": 7,
   "id": "608a84d3",
   "metadata": {},
   "outputs": [
    {
     "name": "stdout",
     "output_type": "stream",
     "text": [
      "Array: [ 5  1  3  8  2  9 12 15]\n",
      "Datatype: int64\n"
     ]
    }
   ],
   "source": [
    "print('Array:', array_one)\n",
    " \n",
    "print('Datatype:', array_one.dtype)"
   ]
  },
  {
   "cell_type": "markdown",
   "id": "b3ca6a31",
   "metadata": {},
   "source": [
    "*Displays the dimension and shape of the array.*"
   ]
  },
  {
   "cell_type": "code",
   "execution_count": 10,
   "id": "a92dd60f",
   "metadata": {},
   "outputs": [
    {
     "name": "stdout",
     "output_type": "stream",
     "text": [
      "1\n",
      "(8,)\n"
     ]
    }
   ],
   "source": [
    "print(array_one.ndim)\n",
    "print(array_one.shape)"
   ]
  },
  {
   "cell_type": "markdown",
   "id": "4a405bd5",
   "metadata": {},
   "source": [
    "### Exercise 2"
   ]
  },
  {
   "cell_type": "markdown",
   "id": "e60ee87b",
   "metadata": {},
   "source": [
    "*Calculate the mean value for the numbers in the previous array*"
   ]
  },
  {
   "cell_type": "code",
   "execution_count": 12,
   "id": "03b89144",
   "metadata": {},
   "outputs": [
    {
     "data": {
      "text/plain": [
       "6.875"
      ]
     },
     "execution_count": 12,
     "metadata": {},
     "output_type": "execute_result"
    }
   ],
   "source": [
    "np.average(array_one)"
   ]
  },
  {
   "cell_type": "markdown",
   "id": "62cc50a9",
   "metadata": {},
   "source": [
    "### Exercise 3"
   ]
  },
  {
   "cell_type": "markdown",
   "id": "60001fe3",
   "metadata": {},
   "source": [
    "*Create a two-dimensional array with a 5 x 5 shape. Extracts the maximum value of the array, and the maximum values of each of its axes.*"
   ]
  },
  {
   "cell_type": "code",
   "execution_count": 22,
   "id": "8e1888ad",
   "metadata": {},
   "outputs": [
    {
     "name": "stdout",
     "output_type": "stream",
     "text": [
      "Original Array:\n",
      "[[28 38 29 47 10]\n",
      " [36 40 21 22  7]\n",
      " [14 19 49 20 20]\n",
      " [ 3 20 33 31 35]\n",
      " [20 35 38  6 43]]\n",
      "Maximum Value:\n",
      "49\n"
     ]
    }
   ],
   "source": [
    "array_two = np.random.choice(np.arange(50, dtype=np.int64), size=(5, 5))\n",
    "print(\"Original Array:\")\n",
    "print(array_two) \n",
    "arr_max = array_two.max()\n",
    "print(\"Maximum Value:\")\n",
    "print(arr_max)"
   ]
  },
  {
   "cell_type": "code",
   "execution_count": 25,
   "id": "c0a2689e",
   "metadata": {},
   "outputs": [
    {
     "data": {
      "text/plain": [
       "array([47, 40, 49, 35, 43], dtype=int64)"
      ]
     },
     "execution_count": 25,
     "metadata": {},
     "output_type": "execute_result"
    }
   ],
   "source": [
    "np.max(array_two, axis=1)"
   ]
  },
  {
   "cell_type": "markdown",
   "id": "5bb95e66",
   "metadata": {},
   "source": [
    "### Exercise 4"
   ]
  },
  {
   "cell_type": "markdown",
   "id": "64072bfb",
   "metadata": {},
   "source": [
    "*Show with examples of different arrays, the Broadcasting fundamental rule that says : \"arrays can be broadcasted if their dimensions match or if one of the arrays has a size of d1\".*"
   ]
  },
  {
   "cell_type": "code",
   "execution_count": 31,
   "id": "56289949",
   "metadata": {},
   "outputs": [
    {
     "name": "stdout",
     "output_type": "stream",
     "text": [
      "[450 350   0  30]\n"
     ]
    }
   ],
   "source": [
    "a = np.array([5, 7, 3, 1])\n",
    "b = np.array([90, 50, 0, 30])\n",
    " \n",
    "# array are compatible because of same Dimension\n",
    "c = a * b\n",
    "print (c)"
   ]
  },
  {
   "cell_type": "code",
   "execution_count": 35,
   "id": "1abd6152",
   "metadata": {},
   "outputs": [
    {
     "name": "stdout",
     "output_type": "stream",
     "text": [
      "[[16 29 36]\n",
      " [15 27 33]]\n"
     ]
    }
   ],
   "source": [
    "d = np.array([[11, 22, 33], [10, 20, 30]])\n",
    "e = np.array([5, 7, 3])\n",
    "\n",
    "# arrays are compatible because one of them is 1 Dimension\n",
    "f = d + e\n",
    "print(f)"
   ]
  },
  {
   "cell_type": "markdown",
   "id": "b82c1f4a",
   "metadata": {},
   "source": [
    "### Exercise 5"
   ]
  },
  {
   "cell_type": "markdown",
   "id": "f16f5f55",
   "metadata": {},
   "source": [
    "*Use Indexing to extract values from a column and a row from the array. And add up to its values.*"
   ]
  },
  {
   "cell_type": "code",
   "execution_count": 54,
   "id": "1df3bece",
   "metadata": {},
   "outputs": [
    {
     "name": "stdout",
     "output_type": "stream",
     "text": [
      "[[21 12 23]\n",
      " [11 40 33]\n",
      " [43 77 89]]\n",
      "The sum of element at row index 1 & column index 2 + element at row index 2 & column 0 is: 76\n"
     ]
    }
   ],
   "source": [
    "array_three = np.array(([21, 12, 23], [11, 40, 33], [43, 77, 89]))\n",
    "print(array_three)\n",
    "\n",
    "num1 = array_three[1][2]\n",
    "num2 = array_three[2][0]\n",
    "print('The sum of element at row index 1 & column index 2 + element at row index 2 & column 0 is:',num1+num2)"
   ]
  },
  {
   "cell_type": "markdown",
   "id": "ca39b29b",
   "metadata": {},
   "source": [
    "### Exercise 6"
   ]
  },
  {
   "cell_type": "markdown",
   "id": "0e2081db",
   "metadata": {},
   "source": [
    "*Mask the previous array, perform a vectorized Boolean calculation, taking each element and checking if it is evenly divided by four. This returns a mask array in the same shape with the elementary results of the calculation.*"
   ]
  },
  {
   "cell_type": "code",
   "execution_count": 55,
   "id": "cbf734e8",
   "metadata": {},
   "outputs": [
    {
     "name": "stdout",
     "output_type": "stream",
     "text": [
      "Masked array :  [[-- 12 --]\n",
      " [-- 40 --]\n",
      " [-- -- --]]\n"
     ]
    }
   ],
   "source": [
    "import numpy.ma as ma\n",
    "\n",
    "mask_arr = ma.masked_where(array_three % 4 > 0, array_three)\n",
    "print (\"Masked array : \", mask_arr)"
   ]
  },
  {
   "cell_type": "markdown",
   "id": "bb56515a",
   "metadata": {},
   "source": [
    "### Exercise 7"
   ]
  },
  {
   "cell_type": "markdown",
   "id": "7c7babef",
   "metadata": {},
   "source": [
    "*Use the masked array to index to the original numbers array. The array loses its original shape, to a one dimension, but the data can still be found.*"
   ]
  },
  {
   "cell_type": "code",
   "execution_count": 59,
   "id": "4351d251",
   "metadata": {},
   "outputs": [
    {
     "name": "stdout",
     "output_type": "stream",
     "text": [
      "[-- 40 --]\n",
      "--\n"
     ]
    }
   ],
   "source": [
    "print(mask_arr[1])\n",
    "print(mask_arr[2][2])"
   ]
  },
  {
   "cell_type": "markdown",
   "id": "b16057a5",
   "metadata": {},
   "source": [
    "### Exercise 8"
   ]
  },
  {
   "cell_type": "markdown",
   "id": "025c3697",
   "metadata": {},
   "source": []
  },
  {
   "cell_type": "code",
   "execution_count": 65,
   "id": "c6a23521",
   "metadata": {},
   "outputs": [
    {
     "data": {
      "image/png": "[encoded data removed]",
      "text/plain": [
       "<Figure size 432x288 with 1 Axes>"
      ]
     },
     "metadata": {
      "needs_background": "light"
     },
     "output_type": "display_data"
    }
   ],
   "source": [
    "import matplotlib.image as mpimg\n",
    "import matplotlib.pyplot as plt\n",
    "\n",
    "img = mpimg.imread('Images/rabbit-gb1d14975e_640.png')\n",
    "imgplot = plt.imshow(img)"
   ]
  },
  {
   "cell_type": "code",
   "execution_count": 111,
   "id": "b810712a",
   "metadata": {},
   "outputs": [
    {
     "data": {
      "image/png": "[encoded data removed]",
      "text/plain": [
       "<Figure size 432x288 with 1 Axes>"
      ]
     },
     "metadata": {
      "needs_background": "light"
     },
     "output_type": "display_data"
    }
   ],
   "source": [
    "plt.imshow(img[:, :, 1])\n",
    "other_img = img[:,:,1]"
   ]
  },
  {
   "cell_type": "code",
   "execution_count": 112,
   "id": "93e22c0f",
   "metadata": {},
   "outputs": [],
   "source": [
    "im_dir = \"./Images/\"\n",
    "mpimg.imsave(im_dir + \"modified_image.jpg\", other_img)"
   ]
  },
  {
   "cell_type": "code",
   "execution_count": null,
   "id": "e86378dc",
   "metadata": {},
   "outputs": [],
   "source": []
  }
 ],
 "metadata": {
  "kernelspec": {
   "display_name": "Python 3 (ipykernel)",
   "language": "python",
   "name": "python3"
  },
  "language_info": {
   "codemirror_mode": {
    "name": "ipython",
    "version": 3
   },
   "file_extension": ".py",
   "mimetype": "text/x-python",
   "name": "python",
   "nbconvert_exporter": "python",
   "pygments_lexer": "ipython3",
   "version": "3.9.12"
  }
 },
 "nbformat": 4,
 "nbformat_minor": 5
}
