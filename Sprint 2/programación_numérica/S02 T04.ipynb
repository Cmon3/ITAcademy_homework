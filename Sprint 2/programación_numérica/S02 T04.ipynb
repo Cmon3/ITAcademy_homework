{
 "cells": [
  {
   "cell_type": "markdown",
   "id": "18b04b13",
   "metadata": {},
   "source": [
    "# S02 T04: Numeric Coding Practice"
   ]
  },
  {
   "cell_type": "markdown",
   "id": "e372dfef",
   "metadata": {},
   "source": [
    "### Exercise 1"
   ]
  },
  {
   "cell_type": "markdown",
   "id": "7b1e4990",
   "metadata": {},
   "source": [
    "*Create a function that takes an one dimension Array, gives you a basic statistical summary of the data. And if it detects that the array has more than one dimension, it must display an error message.*"
   ]
  },
  {
   "cell_type": "code",
   "execution_count": 4,
   "id": "6f40b931",
   "metadata": {},
   "outputs": [],
   "source": [
    "import numpy as np\n",
    "from scipy import stats\n",
    "\n",
    "def data_summary(array):\n",
    "    print(stats.describe(array))"
   ]
  },
  {
   "cell_type": "code",
   "execution_count": 5,
   "id": "89ee1757",
   "metadata": {},
   "outputs": [
    {
     "name": "stdout",
     "output_type": "stream",
     "text": [
      "DescribeResult(nobs=8, minmax=(1, 8), mean=4.5, variance=6.0, skewness=0.0, kurtosis=-1.2380952380952381)\n"
     ]
    }
   ],
   "source": [
    "array_one = np.array([2, 1, 5, 3, 7, 4, 6, 8])\n",
    "data_summary(array_one)"
   ]
  },
  {
   "cell_type": "markdown",
   "id": "424de6e7",
   "metadata": {},
   "source": [
    "### Exercise 2"
   ]
  },
  {
   "cell_type": "markdown",
   "id": "e6bac1df",
   "metadata": {},
   "source": [
    "*Create a function that creates a NxN square of random numbers between 0 and 100.*"
   ]
  },
  {
   "cell_type": "code",
   "execution_count": 25,
   "id": "9ec05be8",
   "metadata": {},
   "outputs": [],
   "source": [
    "def square():\n",
    "    return np.random.choice(np.arange(101), size=(5, 5))"
   ]
  },
  {
   "cell_type": "code",
   "execution_count": 31,
   "id": "0dbb09b2",
   "metadata": {},
   "outputs": [
    {
     "name": "stdout",
     "output_type": "stream",
     "text": [
      "[[ 9 12 83 22 33]\n",
      " [73 13 28 73 44]\n",
      " [38 21 15 20 36]\n",
      " [72 90 61 65 23]\n",
      " [58  3 63 18  6]]\n"
     ]
    }
   ],
   "source": [
    "array_square= square()\n",
    "print(array_square)"
   ]
  },
  {
   "cell_type": "markdown",
   "id": "284ee5a1",
   "metadata": {},
   "source": [
    "### Exercise 3"
   ]
  },
  {
   "cell_type": "markdown",
   "id": "904b1dff",
   "metadata": {},
   "source": [
    "*Create a function that, given a two-dimensional table, calculates totals per row and per column.*"
   ]
  },
  {
   "cell_type": "code",
   "execution_count": 32,
   "id": "cb8da9cc",
   "metadata": {},
   "outputs": [],
   "source": [
    "def totals_calculation(array):\n",
    "    row_sums = array.sum(axis=1)\n",
    "    column_sums = array.sum(axis=0)\n",
    "    print(\"The total per rows is:\",row_sums,\", and the total per columns is:\",column_sums)"
   ]
  },
  {
   "cell_type": "code",
   "execution_count": 33,
   "id": "651edeab",
   "metadata": {},
   "outputs": [
    {
     "name": "stdout",
     "output_type": "stream",
     "text": [
      "The total per rows is: [159 231 130 311 148] , and the total per columns is: [250 139 250 198 142]\n"
     ]
    }
   ],
   "source": [
    "totals_calculation(array_square)"
   ]
  },
  {
   "cell_type": "markdown",
   "id": "95080171",
   "metadata": {},
   "source": [
    "### Exercise 4"
   ]
  },
  {
   "cell_type": "markdown",
   "id": "662ad330",
   "metadata": {},
   "source": [
    "*Manually implement a function that calculates the correlation coefficient. Find out more about its uses and interpretation.*"
   ]
  },
  {
   "cell_type": "code",
   "execution_count": 34,
   "id": "d4e870a0",
   "metadata": {},
   "outputs": [],
   "source": [
    "def correlation_coeficient(x,y):\n",
    "    correlation = np.corrcoef(x, y)\n",
    "    print(correlation)"
   ]
  },
  {
   "cell_type": "code",
   "execution_count": 36,
   "id": "0fe23f82",
   "metadata": {},
   "outputs": [
    {
     "name": "stdout",
     "output_type": "stream",
     "text": [
      "[[1.         0.80323888]\n",
      " [0.80323888 1.        ]]\n"
     ]
    }
   ],
   "source": [
    "x=np.arange(30,40)\n",
    "y=np.array([5,3,7,6,10,14,19,35,94,58])\n",
    "\n",
    "correlation_coeficient(x,y)"
   ]
  }
 ],
 "metadata": {
  "kernelspec": {
   "display_name": "Python 3 (ipykernel)",
   "language": "python",
   "name": "python3"
  },
  "language_info": {
   "codemirror_mode": {
    "name": "ipython",
    "version": 3
   },
   "file_extension": ".py",
   "mimetype": "text/x-python",
   "name": "python",
   "nbconvert_exporter": "python",
   "pygments_lexer": "ipython3",
   "version": "3.9.12"
  }
 },
 "nbformat": 4,
 "nbformat_minor": 5
}
